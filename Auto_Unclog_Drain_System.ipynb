{
 "cells": [
  {
   "cell_type": "markdown",
   "id": "3071da53",
   "metadata": {},
   "source": [
    "\n",
    "# Auto-Unclog Drain System with Python\n",
    "In this notebook, I'll walk through the step-by-step process of creating a simulation for an auto-unclog drain system using Python fundamentals. The goal is to simulate a smart drain that detects water, monitors drain rates, and unclogs the drain if necessary.\n",
    "\n",
    "We'll explore basic programming concepts, such as conditionals, loops, and functions, as well as more complex ideas like state monitoring and automated actions. Let's get started!\n",
    "\n",
    "## Step 1: Define the Basic Drain Functions\n",
    "The first step is to define basic functions that check the drain's status, the presence of water, and simulate air compressions for unclogging.\n",
    "    "
   ]
  },
  {
   "cell_type": "code",
   "execution_count": 3,
   "id": "a841ebaf",
   "metadata": {},
   "outputs": [],
   "source": [
    "\n",
    "# Function to check if water is present in the tub (water detection sensor)\n",
    "def is_water_present():\n",
    "    return water_sensor.detect_water()  # Simulated water detection\n",
    "\n",
    "# Function to check if the drain is stopped intentionally (i.e. for a bath)\n",
    "\n",
    "def is_drain_stopped():\n",
    "    return drain_sensor.is_stopped()  # Simulated drain stop detection\n",
    "    "
   ]
  },
  {
   "cell_type": "markdown",
   "id": "0249f09f",
   "metadata": {},
   "source": [
    "\n",
    "## Step 2: Implement the Drain Compression Logic\n",
    "Once we detect that water isn't draining properly, we simulate drain compressions (three pushes with natural pullbacks) to unclog the drain. Here's how we implement that:\n",
    "    "
   ]
  },
  {
   "cell_type": "code",
   "execution_count": 4,
   "id": "ffcde081",
   "metadata": {},
   "outputs": [],
   "source": [
    "\n",
    "# Function to simulate a single drain compression (three pushes, with natural pullbacks)\n",
    "def drain_compression():\n",
    "    print(\"Starting drain compression...\")\n",
    "    for i in range(3):  # Three pushes\n",
    "        print(f\"Push {i+1}\")\n",
    "        air_pump.push_air()  # Simulate pushing air into the drain\n",
    "        print(\"Returning to start position (natural pull)\")\n",
    "        air_pump.return_to_start()  # Natural return (acting as a pull)\n",
    "    "
   ]
  },
  {
   "cell_type": "markdown",
   "id": "ac29295c",
   "metadata": {},
   "source": [
    "\n",
    "## Step 3: Create the Baseline Drain Rate Test\n",
    "Next, we define a baseline drain rate by measuring how fast water drains in an unclogged state. This will be compared against future drains to detect when a clog might be forming.\n",
    "    "
   ]
  },
  {
   "cell_type": "code",
   "execution_count": 5,
   "id": "7d8964c4",
   "metadata": {},
   "outputs": [],
   "source": [
    "\n",
    "# Function to perform an initial drain rate test to establish a baseline\n",
    "def perform_baseline_test():\n",
    "    print(\"Starting baseline drain rate test...\")\n",
    "    fill_tub_to_max()  # Fill the tub to a specified max level\n",
    "    start_time = time.now()\n",
    "    open_drain()  # Start draining the tub\n",
    "    while is_water_present():  # Wait until the water has drained completely\n",
    "        pass\n",
    "    end_time = time.now()\n",
    "    baseline_drain_rate = calculate_drain_rate(start_time, end_time)  # Calculate drain rate\n",
    "    print(f\"Baseline drain rate established: {baseline_drain_rate} L/s\")\n",
    "    return baseline_drain_rate\n",
    "\n",
    "# Function to calculate the drain rate (liters per second)\n",
    "def calculate_drain_rate(start_time, end_time):\n",
    "    tub_capacity = get_tub_capacity()  # Simulated tub capacity in liters\n",
    "    drain_duration = end_time - start_time  # Calculate time taken to drain\n",
    "    return tub_capacity / drain_duration.total_seconds()  # Drain rate in liters per second\n",
    "    "
   ]
  },
  {
   "cell_type": "markdown",
   "id": "db78c3a7",
   "metadata": {},
   "source": [
    "\n",
    "## Step 4: Compare the Current Drain Rate to the Baseline\n",
    "Now that we have a baseline, every time the drain is used, we can compare the current drain rate to the baseline and decide if the drain needs unclogging or maintenance.\n",
    "    "
   ]
  },
  {
   "cell_type": "code",
   "execution_count": 6,
   "id": "34d2545b",
   "metadata": {},
   "outputs": [],
   "source": [
    "\n",
    "# Function to check if the current drain rate is below the baseline\n",
    "def is_drain_rate_below_baseline(current_drain_rate, baseline_drain_rate):\n",
    "    return current_drain_rate < (baseline_drain_rate * 0.8)  # Consider 80% as threshold\n",
    "\n",
    "# Function to check the drain rate and suggest maintenance if needed\n",
    "def check_drain_rate(baseline_drain_rate):\n",
    "    if is_water_present():\n",
    "        print(\"Monitoring current drain rate...\")\n",
    "        start_time = time.now()\n",
    "        open_drain()  # Start draining\n",
    "        while is_water_present():\n",
    "            pass\n",
    "        end_time = time.now()\n",
    "        current_drain_rate = calculate_drain_rate(start_time, end_time)\n",
    "        print(f\"Current drain rate: {current_drain_rate} L/s\")\n",
    "        \n",
    "        if is_drain_rate_below_baseline(current_drain_rate, baseline_drain_rate):\n",
    "            print(\"Drain rate is below baseline. Suggesting maintenance.\")\n",
    "            notify_user(\"Drain rate has dropped. Consider maintenance.\")\n",
    "        else:\n",
    "            print(\"Drain rate is normal.\")\n",
    "    else:\n",
    "        print(\"No water detected.\")\n",
    "    "
   ]
  },
  {
   "cell_type": "markdown",
   "id": "dea86dfd",
   "metadata": {},
   "source": [
    "\n",
    "## Step 5: Final Integration of the Unclog Logic and System Process\n",
    "We now integrate the baseline check, water detection, and drain compression into one system to monitor and maintain the drain, unclogging it automatically when necessary.\n",
    "    "
   ]
  },
  {
   "cell_type": "code",
   "execution_count": 7,
   "id": "5a96ec72",
   "metadata": {},
   "outputs": [],
   "source": [
    "\n",
    "# Main function to control the auto-unclog process\n",
    "def auto_drain_unclog():\n",
    "    baseline_drain_rate = perform_baseline_test()  # Establish baseline during setup\n",
    "    \n",
    "    if is_water_present():\n",
    "        if not is_drain_stopped():  # If drain is not stopped (e.g., for a bath)\n",
    "            check_drain_rate(baseline_drain_rate)  # Compare current drain rate to baseline\n",
    "            if is_water_pooling():  # If water pools, indicating a clog\n",
    "                print(\"Water pooling detected. Starting unclog process.\")\n",
    "                drain_compressions()  # Run compressions if needed\n",
    "        else:\n",
    "            print(\"Drain is stopped. Standby mode activated.\")\n",
    "    else:\n",
    "        print(\"No water detected.\")\n",
    "    "
   ]
  },
  {
   "cell_type": "code",
   "execution_count": null,
   "id": "9ed234fb",
   "metadata": {},
   "outputs": [],
   "source": []
  }
 ],
 "metadata": {
  "kernelspec": {
   "display_name": ".venv",
   "language": "python",
   "name": "python3"
  },
  "language_info": {
   "codemirror_mode": {
    "name": "ipython",
    "version": 3
   },
   "file_extension": ".py",
   "mimetype": "text/x-python",
   "name": "python",
   "nbconvert_exporter": "python",
   "pygments_lexer": "ipython3",
   "version": "3.12.5"
  }
 },
 "nbformat": 4,
 "nbformat_minor": 5
}
